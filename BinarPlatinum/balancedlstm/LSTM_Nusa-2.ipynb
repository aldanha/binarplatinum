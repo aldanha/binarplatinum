{
  "cells": [
    {
      "cell_type": "code",
      "execution_count": 20,
      "metadata": {
        "colab": {
          "base_uri": "https://localhost:8080/",
          "height": 204
        },
        "id": "XtSxqI2OLhnM",
        "outputId": "4e26a54c-ac22-4089-cba3-af3ead7b907c"
      },
      "outputs": [
        {
          "data": {
            "text/html": [
              "<div>\n",
              "<style scoped>\n",
              "    .dataframe tbody tr th:only-of-type {\n",
              "        vertical-align: middle;\n",
              "    }\n",
              "\n",
              "    .dataframe tbody tr th {\n",
              "        vertical-align: top;\n",
              "    }\n",
              "\n",
              "    .dataframe thead th {\n",
              "        text-align: right;\n",
              "    }\n",
              "</style>\n",
              "<table border=\"1\" class=\"dataframe\">\n",
              "  <thead>\n",
              "    <tr style=\"text-align: right;\">\n",
              "      <th></th>\n",
              "      <th>0</th>\n",
              "      <th>1</th>\n",
              "    </tr>\n",
              "  </thead>\n",
              "  <tbody>\n",
              "    <tr>\n",
              "      <th>0</th>\n",
              "      <td>warung ini dimiliki oleh pengusaha pabrik tahu...</td>\n",
              "      <td>positive</td>\n",
              "    </tr>\n",
              "    <tr>\n",
              "      <th>1</th>\n",
              "      <td>lokasi strategis di jalan sumatera bandung . t...</td>\n",
              "      <td>positive</td>\n",
              "    </tr>\n",
              "    <tr>\n",
              "      <th>2</th>\n",
              "      <td>betapa bahagia nya diri ini saat unboxing pake...</td>\n",
              "      <td>positive</td>\n",
              "    </tr>\n",
              "    <tr>\n",
              "      <th>3</th>\n",
              "      <td>makanan beragam , harga makanan di food stall ...</td>\n",
              "      <td>positive</td>\n",
              "    </tr>\n",
              "    <tr>\n",
              "      <th>4</th>\n",
              "      <td>tempat unik , bagus buat foto , makanan enak ,...</td>\n",
              "      <td>positive</td>\n",
              "    </tr>\n",
              "  </tbody>\n",
              "</table>\n",
              "</div>"
            ],
            "text/plain": [
              "                                                   0         1\n",
              "0  warung ini dimiliki oleh pengusaha pabrik tahu...  positive\n",
              "1  lokasi strategis di jalan sumatera bandung . t...  positive\n",
              "2  betapa bahagia nya diri ini saat unboxing pake...  positive\n",
              "3  makanan beragam , harga makanan di food stall ...  positive\n",
              "4  tempat unik , bagus buat foto , makanan enak ,...  positive"
            ]
          },
          "execution_count": 20,
          "metadata": {},
          "output_type": "execute_result"
        }
      ],
      "source": [
        "import pandas as pd \n",
        "\n",
        "\n",
        "df = pd.read_csv('coba1.tsv', sep= '\\t', header=None)\n",
        "\n",
        "\n",
        "df.head()"
      ]
    },
    {
      "cell_type": "code",
      "execution_count": 21,
      "metadata": {
        "colab": {
          "base_uri": "https://localhost:8080/"
        },
        "id": "7pEzoqt3M0eV",
        "outputId": "7e1e187b-16e1-4cd4-df25-4c4f6f585b1b"
      },
      "outputs": [
        {
          "data": {
            "text/html": [
              "<div>\n",
              "<style scoped>\n",
              "    .dataframe tbody tr th:only-of-type {\n",
              "        vertical-align: middle;\n",
              "    }\n",
              "\n",
              "    .dataframe tbody tr th {\n",
              "        vertical-align: top;\n",
              "    }\n",
              "\n",
              "    .dataframe thead th {\n",
              "        text-align: right;\n",
              "    }\n",
              "</style>\n",
              "<table border=\"1\" class=\"dataframe\">\n",
              "  <thead>\n",
              "    <tr style=\"text-align: right;\">\n",
              "      <th></th>\n",
              "      <th>text</th>\n",
              "      <th>label</th>\n",
              "    </tr>\n",
              "  </thead>\n",
              "  <tbody>\n",
              "    <tr>\n",
              "      <th>0</th>\n",
              "      <td>warung ini dimiliki oleh pengusaha pabrik tahu...</td>\n",
              "      <td>positive</td>\n",
              "    </tr>\n",
              "    <tr>\n",
              "      <th>1</th>\n",
              "      <td>lokasi strategis di jalan sumatera bandung . t...</td>\n",
              "      <td>positive</td>\n",
              "    </tr>\n",
              "    <tr>\n",
              "      <th>2</th>\n",
              "      <td>betapa bahagia nya diri ini saat unboxing pake...</td>\n",
              "      <td>positive</td>\n",
              "    </tr>\n",
              "    <tr>\n",
              "      <th>3</th>\n",
              "      <td>makanan beragam , harga makanan di food stall ...</td>\n",
              "      <td>positive</td>\n",
              "    </tr>\n",
              "    <tr>\n",
              "      <th>4</th>\n",
              "      <td>tempat unik , bagus buat foto , makanan enak ,...</td>\n",
              "      <td>positive</td>\n",
              "    </tr>\n",
              "    <tr>\n",
              "      <th>...</th>\n",
              "      <td>...</td>\n",
              "      <td>...</td>\n",
              "    </tr>\n",
              "    <tr>\n",
              "      <th>3343</th>\n",
              "      <td>dapat bonus tcash 12.500 tapi tidak bisa dipak...</td>\n",
              "      <td>negative</td>\n",
              "    </tr>\n",
              "    <tr>\n",
              "      <th>3344</th>\n",
              "      <td>ketahuan yang bawain berita ini goblok banget ...</td>\n",
              "      <td>negative</td>\n",
              "    </tr>\n",
              "    <tr>\n",
              "      <th>3345</th>\n",
              "      <td>tidak berfaedah</td>\n",
              "      <td>negative</td>\n",
              "    </tr>\n",
              "    <tr>\n",
              "      <th>3346</th>\n",
              "      <td>itu ibu-ibu datang kerumah gue setiap tanggal1...</td>\n",
              "      <td>negative</td>\n",
              "    </tr>\n",
              "    <tr>\n",
              "      <th>3347</th>\n",
              "      <td>gue setuju buat adu domba jokowi sama megawati...</td>\n",
              "      <td>negative</td>\n",
              "    </tr>\n",
              "  </tbody>\n",
              "</table>\n",
              "<p>3348 rows × 2 columns</p>\n",
              "</div>"
            ],
            "text/plain": [
              "                                                   text     label\n",
              "0     warung ini dimiliki oleh pengusaha pabrik tahu...  positive\n",
              "1     lokasi strategis di jalan sumatera bandung . t...  positive\n",
              "2     betapa bahagia nya diri ini saat unboxing pake...  positive\n",
              "3     makanan beragam , harga makanan di food stall ...  positive\n",
              "4     tempat unik , bagus buat foto , makanan enak ,...  positive\n",
              "...                                                 ...       ...\n",
              "3343  dapat bonus tcash 12.500 tapi tidak bisa dipak...  negative\n",
              "3344  ketahuan yang bawain berita ini goblok banget ...  negative\n",
              "3345                                    tidak berfaedah  negative\n",
              "3346  itu ibu-ibu datang kerumah gue setiap tanggal1...  negative\n",
              "3347  gue setuju buat adu domba jokowi sama megawati...  negative\n",
              "\n",
              "[3348 rows x 2 columns]"
            ]
          },
          "execution_count": 21,
          "metadata": {},
          "output_type": "execute_result"
        }
      ],
      "source": [
        "df.columns =['text', 'label']\n",
        "df"
      ]
    },
    {
      "cell_type": "code",
      "execution_count": 23,
      "metadata": {},
      "outputs": [
        {
          "data": {
            "text/plain": [
              "neutral     1148\n",
              "positive    1100\n",
              "negative    1100\n",
              "Name: label, dtype: int64"
            ]
          },
          "execution_count": 23,
          "metadata": {},
          "output_type": "execute_result"
        }
      ],
      "source": [
        "df.label.value_counts()"
      ]
    },
    {
      "cell_type": "code",
      "execution_count": 24,
      "metadata": {
        "colab": {
          "base_uri": "https://localhost:8080/",
          "height": 204
        },
        "id": "FX8L5tKsM4gq",
        "outputId": "b942e068-c183-4b30-9b4f-5955ca7f4849"
      },
      "outputs": [
        {
          "data": {
            "text/html": [
              "<div>\n",
              "<style scoped>\n",
              "    .dataframe tbody tr th:only-of-type {\n",
              "        vertical-align: middle;\n",
              "    }\n",
              "\n",
              "    .dataframe tbody tr th {\n",
              "        vertical-align: top;\n",
              "    }\n",
              "\n",
              "    .dataframe thead th {\n",
              "        text-align: right;\n",
              "    }\n",
              "</style>\n",
              "<table border=\"1\" class=\"dataframe\">\n",
              "  <thead>\n",
              "    <tr style=\"text-align: right;\">\n",
              "      <th></th>\n",
              "      <th>text</th>\n",
              "      <th>label</th>\n",
              "      <th>text_clean</th>\n",
              "    </tr>\n",
              "  </thead>\n",
              "  <tbody>\n",
              "    <tr>\n",
              "      <th>0</th>\n",
              "      <td>warung ini dimiliki oleh pengusaha pabrik tahu...</td>\n",
              "      <td>positive</td>\n",
              "      <td>warung ini dimiliki oleh pengusaha pabrik tahu...</td>\n",
              "    </tr>\n",
              "    <tr>\n",
              "      <th>1</th>\n",
              "      <td>lokasi strategis di jalan sumatera bandung . t...</td>\n",
              "      <td>positive</td>\n",
              "      <td>lokasi strategis di jalan sumatra bandung temp...</td>\n",
              "    </tr>\n",
              "    <tr>\n",
              "      <th>2</th>\n",
              "      <td>betapa bahagia nya diri ini saat unboxing pake...</td>\n",
              "      <td>positive</td>\n",
              "      <td>betapa bahagia nya diri ini saat unboxing pake...</td>\n",
              "    </tr>\n",
              "    <tr>\n",
              "      <th>3</th>\n",
              "      <td>makanan beragam , harga makanan di food stall ...</td>\n",
              "      <td>positive</td>\n",
              "      <td>makanan beragam harga makanan di food stall ak...</td>\n",
              "    </tr>\n",
              "    <tr>\n",
              "      <th>4</th>\n",
              "      <td>tempat unik , bagus buat foto , makanan enak ,...</td>\n",
              "      <td>positive</td>\n",
              "      <td>tempat unik bagus buat foto makanan enak pegaw...</td>\n",
              "    </tr>\n",
              "  </tbody>\n",
              "</table>\n",
              "</div>"
            ],
            "text/plain": [
              "                                                text     label  \\\n",
              "0  warung ini dimiliki oleh pengusaha pabrik tahu...  positive   \n",
              "1  lokasi strategis di jalan sumatera bandung . t...  positive   \n",
              "2  betapa bahagia nya diri ini saat unboxing pake...  positive   \n",
              "3  makanan beragam , harga makanan di food stall ...  positive   \n",
              "4  tempat unik , bagus buat foto , makanan enak ,...  positive   \n",
              "\n",
              "                                          text_clean  \n",
              "0  warung ini dimiliki oleh pengusaha pabrik tahu...  \n",
              "1  lokasi strategis di jalan sumatra bandung temp...  \n",
              "2  betapa bahagia nya diri ini saat unboxing pake...  \n",
              "3  makanan beragam harga makanan di food stall ak...  \n",
              "4  tempat unik bagus buat foto makanan enak pegaw...  "
            ]
          },
          "execution_count": 24,
          "metadata": {},
          "output_type": "execute_result"
        }
      ],
      "source": [
        "import re \n",
        "\n",
        "def lower(text):\n",
        "    return text.lower()\n",
        "\n",
        "def rmv_unn(text):\n",
        "    text = re.sub('\\n',' ',text) # Remove every '\\n'\n",
        "    text = re.sub('rt',' ',text) # Remove every retweet symbol\n",
        "    text = re.sub('user',' ',text) # Remove every username\n",
        "    text = re.sub('((www\\.[^\\s]+)|(https?://[^\\s]+)|(http?://[^\\s]+))',' ',text) # Remove every URL\n",
        "    text = re.sub('  +', ' ', text) # Remove extra spaces\n",
        "    return text\n",
        "    \n",
        "def rmv_nonalpha(text):\n",
        "    text = re.sub('[^0-9a-zA-Z]+', ' ', text) \n",
        "    return text\n",
        "\n",
        "#import dictionary alay untuk mapping kata2 tidak baku  \n",
        "alay_dict = pd.read_csv('new_kamusalay.csv', encoding='latin-1', header=None)\n",
        "#rename kolum pada dictionary \n",
        "alay_dict = alay_dict.rename(columns={0:'original',\n",
        "                                    1:'replacement'})\n",
        "\n",
        "#mengubah kata-kata yang tidak baku pada teks \n",
        "alay_dict_map = dict(zip(alay_dict['original'], alay_dict['replacement']))\n",
        "def baku(text):\n",
        "    return ' '.join([alay_dict_map[word] if word in alay_dict_map else word for word in text.split(' ')])\n",
        "\n",
        "def preprocess(text):\n",
        "    text = lower(text) # 1\n",
        "    text = rmv_nonalpha(text) # 2\n",
        "    text = rmv_unn(text) # 2\n",
        "    text = baku(text)\n",
        "    return text\n",
        "\n",
        "df['text_clean'] = df.text.apply(preprocess)\n",
        "df.head()"
      ]
    },
    {
      "cell_type": "code",
      "execution_count": 25,
      "metadata": {
        "colab": {
          "base_uri": "https://localhost:8080/"
        },
        "id": "VRi5vqXVNJ-W",
        "outputId": "89b062e7-50d0-4698-ecf8-7084eff055f9"
      },
      "outputs": [
        {
          "name": "stdout",
          "output_type": "stream",
          "text": [
            "Pos: 1100, Neu: 1148, Neg: 1100\n",
            "Total data: 3348\n"
          ]
        }
      ],
      "source": [
        "pos = df.loc[df['label'] == 'positive'].text_clean.tolist()\n",
        "neg = df.loc[df['label'] == 'negative'].text_clean.tolist()\n",
        "neu = df.loc[df['label'] == 'neutral'].text_clean.tolist()\n",
        "\n",
        "neg_label = df.loc[df['label']=='negative'].label.tolist()\n",
        "neu_label = df.loc[df['label']=='neutral'].label.tolist()\n",
        "pos_label = df.loc[df['label']=='positive'].label.tolist()\n",
        "\n",
        "total_data = pos + neu + neg\n",
        "labels = pos_label + neu_label + neg_label\n",
        "\n",
        "print(\"Pos: %s, Neu: %s, Neg: %s\" %(len(pos), len(neu), len(neg)))\n",
        "print(\"Total data: %s\" %len(total_data))"
      ]
    },
    {
      "cell_type": "code",
      "execution_count": 26,
      "metadata": {
        "colab": {
          "base_uri": "https://localhost:8080/"
        },
        "id": "w_cbkrsLNOf-",
        "outputId": "567d350d-b169-4d6c-f449-7a0e8054976b"
      },
      "outputs": [
        {
          "name": "stdout",
          "output_type": "stream",
          "text": [
            "tokenizer.pickle has been created!\n",
            "[[   0    0    0 ...  588   17 4527]\n",
            " [   0    0    0 ...   16   11   11]\n",
            " [   0    0    0 ... 3057  218   46]\n",
            " ...\n",
            " [   0    0    0 ...    0    5 2565]\n",
            " [   0    0    0 ... 3934  202  122]\n",
            " [   0    0    0 ...   21 1091   46]]\n",
            "x_pad_sequences.pickle has been created!\n"
          ]
        }
      ],
      "source": [
        "import pickle \n",
        "from keras.preprocessing.text import Tokenizer\n",
        "from keras_preprocessing.sequence import pad_sequences\n",
        "from collections import defaultdict\n",
        "\n",
        "max_features = 100000\n",
        "tokenizer = Tokenizer(num_words=max_features, split=' ', lower=True)\n",
        "tokenizer.fit_on_texts(total_data)\n",
        "with open ('tokenizer.pickle', 'wb') as handle: \n",
        "  pickle.dump(tokenizer, handle, protocol=pickle.HIGHEST_PROTOCOL)\n",
        "  print(\"tokenizer.pickle has been created!\")\n",
        "\n",
        "X = tokenizer.texts_to_sequences(total_data)\n",
        "\n",
        "vocab_size = len(tokenizer.word_index)\n",
        "maxlen = max(len(x) for x in X)\n",
        "\n",
        "X = pad_sequences(X)\n",
        "print(X)\n",
        "with open ('x_pad_sequences.pickle', 'wb') as handle: \n",
        "  pickle.dump(X, handle,protocol=pickle.HIGHEST_PROTOCOL)\n",
        "  print('x_pad_sequences.pickle has been created!')"
      ]
    },
    {
      "cell_type": "code",
      "execution_count": 27,
      "metadata": {
        "colab": {
          "base_uri": "https://localhost:8080/"
        },
        "id": "o63KfGcFNRos",
        "outputId": "dbaaa30e-c04d-4c2f-b7c5-7db221025b07"
      },
      "outputs": [
        {
          "name": "stdout",
          "output_type": "stream",
          "text": [
            "[[0 0 1]\n",
            " [0 0 1]\n",
            " [0 0 1]\n",
            " ...\n",
            " [1 0 0]\n",
            " [1 0 0]\n",
            " [1 0 0]]\n",
            "y_labels.pickle has been created!\n"
          ]
        }
      ],
      "source": [
        "Y = pd.get_dummies(labels)\n",
        "Y = Y.values\n",
        "print(Y)\n",
        "\n",
        "with open('y_labels.pickle', 'wb') as handle: \n",
        "  pickle.dump(Y, handle, protocol=pickle.HIGHEST_PROTOCOL)\n",
        "  print('y_labels.pickle has been created!')"
      ]
    },
    {
      "cell_type": "code",
      "execution_count": 28,
      "metadata": {
        "id": "YsKwXQ0eNU3I"
      },
      "outputs": [],
      "source": [
        "from sklearn.model_selection import train_test_split\n",
        "\n",
        "file = open('x_pad_sequences.pickle', 'rb')\n",
        "X = pickle.load(file)\n",
        "file.close()\n",
        "\n",
        "file = open('y_labels.pickle', 'rb')\n",
        "Y= pickle.load(file)\n",
        "file.close()\n",
        "\n",
        "X_train, X_test, y_train, y_test = train_test_split(X,Y, test_size=0.2, random_state=1)"
      ]
    },
    {
      "cell_type": "code",
      "execution_count": 29,
      "metadata": {
        "id": "KIJKisI6NXcC"
      },
      "outputs": [],
      "source": [
        "import numpy as np\n",
        "from tensorflow.keras import layers\n",
        "from tensorflow.keras.models import Sequential\n",
        "from tensorflow.keras.layers import Dense, Embedding, LSTM, SpatialDropout1D, SimpleRNN, Activation\n",
        "from tensorflow.keras import optimizers\n",
        "from tensorflow.keras.callbacks import EarlyStopping, TensorBoard\n",
        "from tensorflow.keras.layers import Flatten \n",
        "from tensorflow.keras import backend as K\n"
      ]
    },
    {
      "cell_type": "code",
      "execution_count": 30,
      "metadata": {
        "colab": {
          "base_uri": "https://localhost:8080/"
        },
        "id": "_WkTTe2INaPl",
        "outputId": "a68c63c2-7a4f-4b30-9570-bfe5664d27ff"
      },
      "outputs": [
        {
          "name": "stdout",
          "output_type": "stream",
          "text": [
            "Model: \"sequential_3\"\n",
            "_________________________________________________________________\n",
            " Layer (type)                Output Shape              Param #   \n",
            "=================================================================\n",
            " embedding_3 (Embedding)     (None, 86, 100)           10000000  \n",
            "                                                                 \n",
            " lstm_3 (LSTM)               (None, 64)                42240     \n",
            "                                                                 \n",
            " dense_3 (Dense)             (None, 3)                 195       \n",
            "                                                                 \n",
            "=================================================================\n",
            "Total params: 10,042,435\n",
            "Trainable params: 10,042,435\n",
            "Non-trainable params: 0\n",
            "_________________________________________________________________\n",
            "None\n",
            "Epoch 1/10\n"
          ]
        },
        {
          "name": "stderr",
          "output_type": "stream",
          "text": [
            "/Users/muhammadaldan/opt/miniconda3/envs/tensorflow/lib/python3.9/site-packages/keras/optimizers/optimizer_v2/adam.py:114: UserWarning: The `lr` argument is deprecated, use `learning_rate` instead.\n",
            "  super().__init__(name, **kwargs)\n",
            "2022-12-03 16:16:48.346227: I tensorflow/core/grappler/optimizers/custom_graph_optimizer_registry.cc:114] Plugin optimizer for device_type GPU is enabled.\n",
            "2022-12-03 16:16:48.679755: I tensorflow/core/grappler/optimizers/custom_graph_optimizer_registry.cc:114] Plugin optimizer for device_type GPU is enabled.\n",
            "2022-12-03 16:16:48.958312: I tensorflow/core/grappler/optimizers/custom_graph_optimizer_registry.cc:114] Plugin optimizer for device_type GPU is enabled.\n"
          ]
        },
        {
          "name": "stdout",
          "output_type": "stream",
          "text": [
            "268/268 [==============================] - ETA: 0s - loss: 0.7134 - accuracy: 0.6923"
          ]
        },
        {
          "name": "stderr",
          "output_type": "stream",
          "text": [
            "2022-12-03 16:17:13.469793: I tensorflow/core/grappler/optimizers/custom_graph_optimizer_registry.cc:114] Plugin optimizer for device_type GPU is enabled.\n",
            "2022-12-03 16:17:13.565731: I tensorflow/core/grappler/optimizers/custom_graph_optimizer_registry.cc:114] Plugin optimizer for device_type GPU is enabled.\n"
          ]
        },
        {
          "name": "stdout",
          "output_type": "stream",
          "text": [
            "268/268 [==============================] - 28s 98ms/step - loss: 0.7134 - accuracy: 0.6923 - val_loss: 0.4894 - val_accuracy: 0.8254\n",
            "Epoch 2/10\n",
            "268/268 [==============================] - 23s 84ms/step - loss: 0.2600 - accuracy: 0.9111 - val_loss: 0.4644 - val_accuracy: 0.8239\n",
            "Epoch 3/10\n",
            "268/268 [==============================] - 26s 98ms/step - loss: 0.0976 - accuracy: 0.9705 - val_loss: 0.5632 - val_accuracy: 0.8224\n",
            "Epoch 4/10\n",
            "268/268 [==============================] - 25s 95ms/step - loss: 0.0429 - accuracy: 0.9866 - val_loss: 0.5742 - val_accuracy: 0.8149\n",
            "Epoch 5/10\n",
            "268/268 [==============================] - 22s 81ms/step - loss: 0.0269 - accuracy: 0.9925 - val_loss: 0.6875 - val_accuracy: 0.7955\n",
            "Epoch 6/10\n",
            "268/268 [==============================] - 22s 83ms/step - loss: 0.0200 - accuracy: 0.9944 - val_loss: 0.8523 - val_accuracy: 0.8030\n",
            "Epoch 7/10\n",
            "268/268 [==============================] - 24s 88ms/step - loss: 0.0147 - accuracy: 0.9948 - val_loss: 0.8260 - val_accuracy: 0.7925\n",
            "Epoch 8/10\n",
            "268/268 [==============================] - 21s 78ms/step - loss: 0.0077 - accuracy: 0.9970 - val_loss: 0.8928 - val_accuracy: 0.8030\n",
            "Epoch 9/10\n",
            "268/268 [==============================] - 22s 82ms/step - loss: 0.0051 - accuracy: 0.9989 - val_loss: 0.9259 - val_accuracy: 0.8030\n",
            "Epoch 10/10\n",
            "268/268 [==============================] - 21s 78ms/step - loss: 0.0048 - accuracy: 0.9985 - val_loss: 0.9532 - val_accuracy: 0.8045\n"
          ]
        }
      ],
      "source": [
        "embed_dim = 100\n",
        "units = 64\n",
        "\n",
        "model = Sequential()\n",
        "model.add(Embedding(max_features, embed_dim, input_length=X.shape[1]))\n",
        "model.add(LSTM(units, dropout=0.2))\n",
        "model.add(Dense(3,activation='softmax'))\n",
        "model.compile(loss='binary_crossentropy', optimizer='adam', metrics =['accuracy'])\n",
        "print(model.summary())\n",
        "\n",
        "adam = optimizers.Adam(lr = 0.001)\n",
        "model.compile(loss = 'categorical_crossentropy', optimizer = adam, metrics = ['accuracy'])\n",
        "history = model.fit(X_train, y_train, epochs=10, batch_size=10, validation_data=(X_test, y_test), verbose=1)\n",
        "\n",
        "#es = EarlyStopping(monitor='val_loss', mode='min', verbose=1)\n",
        "#history = model.fit(X_train, y_train, epochs=10, batch_size=10, validation_data=(X_test, y_test), verbose=1, callbacks=[es])"
      ]
    },
    {
      "cell_type": "code",
      "execution_count": 31,
      "metadata": {
        "colab": {
          "base_uri": "https://localhost:8080/"
        },
        "id": "vmESE76hNc3q",
        "outputId": "2b03c9c1-c837-429e-e6e6-3d23740c4976"
      },
      "outputs": [
        {
          "name": "stderr",
          "output_type": "stream",
          "text": [
            "2022-12-03 16:20:51.445699: I tensorflow/core/grappler/optimizers/custom_graph_optimizer_registry.cc:114] Plugin optimizer for device_type GPU is enabled.\n",
            "2022-12-03 16:20:51.553035: I tensorflow/core/grappler/optimizers/custom_graph_optimizer_registry.cc:114] Plugin optimizer for device_type GPU is enabled.\n"
          ]
        },
        {
          "name": "stdout",
          "output_type": "stream",
          "text": [
            "21/21 [==============================] - 1s 24ms/step\n",
            "Test Done\n",
            "              precision    recall  f1-score   support\n",
            "\n",
            "           0       0.78      0.73      0.75       221\n",
            "           1       0.82      0.84      0.83       212\n",
            "           2       0.81      0.84      0.83       237\n",
            "\n",
            "    accuracy                           0.80       670\n",
            "   macro avg       0.80      0.80      0.80       670\n",
            "weighted avg       0.80      0.80      0.80       670\n",
            "\n"
          ]
        }
      ],
      "source": [
        "from sklearn import metrics\n",
        "\n",
        "predictions = model.predict(X_test)\n",
        "y_pred = predictions\n",
        "matrix_test = metrics.classification_report(y_test.argmax(axis=1), y_pred.argmax(axis=1))\n",
        "print('Test Done')\n",
        "print(matrix_test)"
      ]
    },
    {
      "cell_type": "code",
      "execution_count": 32,
      "metadata": {
        "colab": {
          "base_uri": "https://localhost:8080/"
        },
        "id": "YTR5HN5wNixK",
        "outputId": "971bc411-9eee-47f9-f899-f82d11589871"
      },
      "outputs": [
        {
          "name": "stderr",
          "output_type": "stream",
          "text": [
            "/Users/muhammadaldan/opt/miniconda3/envs/tensorflow/lib/python3.9/site-packages/keras/optimizers/optimizer_v2/adam.py:114: UserWarning: The `lr` argument is deprecated, use `learning_rate` instead.\n",
            "  super().__init__(name, **kwargs)\n",
            "2022-12-03 16:21:08.639164: I tensorflow/core/grappler/optimizers/custom_graph_optimizer_registry.cc:114] Plugin optimizer for device_type GPU is enabled.\n",
            "2022-12-03 16:21:08.964884: I tensorflow/core/grappler/optimizers/custom_graph_optimizer_registry.cc:114] Plugin optimizer for device_type GPU is enabled.\n",
            "2022-12-03 16:21:09.275107: I tensorflow/core/grappler/optimizers/custom_graph_optimizer_registry.cc:114] Plugin optimizer for device_type GPU is enabled.\n",
            "2022-12-03 16:21:32.447220: I tensorflow/core/grappler/optimizers/custom_graph_optimizer_registry.cc:114] Plugin optimizer for device_type GPU is enabled.\n",
            "2022-12-03 16:21:32.543242: I tensorflow/core/grappler/optimizers/custom_graph_optimizer_registry.cc:114] Plugin optimizer for device_type GPU is enabled.\n",
            "2022-12-03 16:24:39.029719: I tensorflow/core/grappler/optimizers/custom_graph_optimizer_registry.cc:114] Plugin optimizer for device_type GPU is enabled.\n",
            "2022-12-03 16:24:39.109864: I tensorflow/core/grappler/optimizers/custom_graph_optimizer_registry.cc:114] Plugin optimizer for device_type GPU is enabled.\n"
          ]
        },
        {
          "name": "stdout",
          "output_type": "stream",
          "text": [
            "21/21 [==============================] - 1s 25ms/step\n",
            "Training ke- 1\n",
            "              precision    recall  f1-score   support\n",
            "\n",
            "           0       0.78      0.73      0.75       221\n",
            "           1       0.82      0.84      0.83       212\n",
            "           2       0.81      0.84      0.83       237\n",
            "\n",
            "    accuracy                           0.80       670\n",
            "   macro avg       0.80      0.80      0.80       670\n",
            "weighted avg       0.80      0.80      0.80       670\n",
            "\n",
            "================================\n"
          ]
        },
        {
          "name": "stderr",
          "output_type": "stream",
          "text": [
            "/Users/muhammadaldan/opt/miniconda3/envs/tensorflow/lib/python3.9/site-packages/keras/optimizers/optimizer_v2/adam.py:114: UserWarning: The `lr` argument is deprecated, use `learning_rate` instead.\n",
            "  super().__init__(name, **kwargs)\n",
            "2022-12-03 16:24:40.825063: I tensorflow/core/grappler/optimizers/custom_graph_optimizer_registry.cc:114] Plugin optimizer for device_type GPU is enabled.\n",
            "2022-12-03 16:24:41.103275: I tensorflow/core/grappler/optimizers/custom_graph_optimizer_registry.cc:114] Plugin optimizer for device_type GPU is enabled.\n",
            "2022-12-03 16:24:41.501567: I tensorflow/core/grappler/optimizers/custom_graph_optimizer_registry.cc:114] Plugin optimizer for device_type GPU is enabled.\n",
            "2022-12-03 16:25:02.057198: I tensorflow/core/grappler/optimizers/custom_graph_optimizer_registry.cc:114] Plugin optimizer for device_type GPU is enabled.\n",
            "2022-12-03 16:25:02.150149: I tensorflow/core/grappler/optimizers/custom_graph_optimizer_registry.cc:114] Plugin optimizer for device_type GPU is enabled.\n",
            "2022-12-03 16:27:58.748915: I tensorflow/core/grappler/optimizers/custom_graph_optimizer_registry.cc:114] Plugin optimizer for device_type GPU is enabled.\n",
            "2022-12-03 16:27:58.827134: I tensorflow/core/grappler/optimizers/custom_graph_optimizer_registry.cc:114] Plugin optimizer for device_type GPU is enabled.\n"
          ]
        },
        {
          "name": "stdout",
          "output_type": "stream",
          "text": [
            "21/21 [==============================] - 1s 24ms/step\n",
            "Training ke- 2\n",
            "              precision    recall  f1-score   support\n",
            "\n",
            "           0       0.78      0.73      0.75       221\n",
            "           1       0.82      0.84      0.83       212\n",
            "           2       0.81      0.84      0.83       237\n",
            "\n",
            "    accuracy                           0.80       670\n",
            "   macro avg       0.80      0.80      0.80       670\n",
            "weighted avg       0.80      0.80      0.80       670\n",
            "\n",
            "================================\n"
          ]
        },
        {
          "name": "stderr",
          "output_type": "stream",
          "text": [
            "/Users/muhammadaldan/opt/miniconda3/envs/tensorflow/lib/python3.9/site-packages/keras/optimizers/optimizer_v2/adam.py:114: UserWarning: The `lr` argument is deprecated, use `learning_rate` instead.\n",
            "  super().__init__(name, **kwargs)\n",
            "2022-12-03 16:28:00.501023: I tensorflow/core/grappler/optimizers/custom_graph_optimizer_registry.cc:114] Plugin optimizer for device_type GPU is enabled.\n",
            "2022-12-03 16:28:00.778245: I tensorflow/core/grappler/optimizers/custom_graph_optimizer_registry.cc:114] Plugin optimizer for device_type GPU is enabled.\n",
            "2022-12-03 16:28:01.180574: I tensorflow/core/grappler/optimizers/custom_graph_optimizer_registry.cc:114] Plugin optimizer for device_type GPU is enabled.\n",
            "2022-12-03 16:28:24.289288: I tensorflow/core/grappler/optimizers/custom_graph_optimizer_registry.cc:114] Plugin optimizer for device_type GPU is enabled.\n",
            "2022-12-03 16:28:24.386561: I tensorflow/core/grappler/optimizers/custom_graph_optimizer_registry.cc:114] Plugin optimizer for device_type GPU is enabled.\n",
            "2022-12-03 16:31:25.315920: I tensorflow/core/grappler/optimizers/custom_graph_optimizer_registry.cc:114] Plugin optimizer for device_type GPU is enabled.\n",
            "2022-12-03 16:31:25.398975: I tensorflow/core/grappler/optimizers/custom_graph_optimizer_registry.cc:114] Plugin optimizer for device_type GPU is enabled.\n"
          ]
        },
        {
          "name": "stdout",
          "output_type": "stream",
          "text": [
            "21/21 [==============================] - 1s 24ms/step\n",
            "Training ke- 3\n",
            "              precision    recall  f1-score   support\n",
            "\n",
            "           0       0.78      0.73      0.75       221\n",
            "           1       0.82      0.84      0.83       212\n",
            "           2       0.81      0.84      0.83       237\n",
            "\n",
            "    accuracy                           0.80       670\n",
            "   macro avg       0.80      0.80      0.80       670\n",
            "weighted avg       0.80      0.80      0.80       670\n",
            "\n",
            "================================\n"
          ]
        },
        {
          "name": "stderr",
          "output_type": "stream",
          "text": [
            "/Users/muhammadaldan/opt/miniconda3/envs/tensorflow/lib/python3.9/site-packages/keras/optimizers/optimizer_v2/adam.py:114: UserWarning: The `lr` argument is deprecated, use `learning_rate` instead.\n",
            "  super().__init__(name, **kwargs)\n",
            "2022-12-03 16:31:27.107133: I tensorflow/core/grappler/optimizers/custom_graph_optimizer_registry.cc:114] Plugin optimizer for device_type GPU is enabled.\n",
            "2022-12-03 16:31:27.396383: I tensorflow/core/grappler/optimizers/custom_graph_optimizer_registry.cc:114] Plugin optimizer for device_type GPU is enabled.\n",
            "2022-12-03 16:31:27.689742: I tensorflow/core/grappler/optimizers/custom_graph_optimizer_registry.cc:114] Plugin optimizer for device_type GPU is enabled.\n",
            "2022-12-03 16:31:49.066720: I tensorflow/core/grappler/optimizers/custom_graph_optimizer_registry.cc:114] Plugin optimizer for device_type GPU is enabled.\n",
            "2022-12-03 16:31:49.175988: I tensorflow/core/grappler/optimizers/custom_graph_optimizer_registry.cc:114] Plugin optimizer for device_type GPU is enabled.\n",
            "2022-12-03 16:35:02.057309: I tensorflow/core/grappler/optimizers/custom_graph_optimizer_registry.cc:114] Plugin optimizer for device_type GPU is enabled.\n",
            "2022-12-03 16:35:02.145454: I tensorflow/core/grappler/optimizers/custom_graph_optimizer_registry.cc:114] Plugin optimizer for device_type GPU is enabled.\n"
          ]
        },
        {
          "name": "stdout",
          "output_type": "stream",
          "text": [
            "21/21 [==============================] - 1s 27ms/step\n",
            "Training ke- 4\n",
            "              precision    recall  f1-score   support\n",
            "\n",
            "           0       0.78      0.73      0.75       221\n",
            "           1       0.82      0.84      0.83       212\n",
            "           2       0.81      0.84      0.83       237\n",
            "\n",
            "    accuracy                           0.80       670\n",
            "   macro avg       0.80      0.80      0.80       670\n",
            "weighted avg       0.80      0.80      0.80       670\n",
            "\n",
            "================================\n"
          ]
        },
        {
          "name": "stderr",
          "output_type": "stream",
          "text": [
            "/Users/muhammadaldan/opt/miniconda3/envs/tensorflow/lib/python3.9/site-packages/keras/optimizers/optimizer_v2/adam.py:114: UserWarning: The `lr` argument is deprecated, use `learning_rate` instead.\n",
            "  super().__init__(name, **kwargs)\n",
            "2022-12-03 16:35:03.988683: I tensorflow/core/grappler/optimizers/custom_graph_optimizer_registry.cc:114] Plugin optimizer for device_type GPU is enabled.\n",
            "2022-12-03 16:35:04.305582: I tensorflow/core/grappler/optimizers/custom_graph_optimizer_registry.cc:114] Plugin optimizer for device_type GPU is enabled.\n",
            "2022-12-03 16:35:04.712375: I tensorflow/core/grappler/optimizers/custom_graph_optimizer_registry.cc:114] Plugin optimizer for device_type GPU is enabled.\n",
            "2022-12-03 16:35:29.467139: I tensorflow/core/grappler/optimizers/custom_graph_optimizer_registry.cc:114] Plugin optimizer for device_type GPU is enabled.\n",
            "2022-12-03 16:35:29.593414: I tensorflow/core/grappler/optimizers/custom_graph_optimizer_registry.cc:114] Plugin optimizer for device_type GPU is enabled.\n",
            "2022-12-03 16:38:39.879335: I tensorflow/core/grappler/optimizers/custom_graph_optimizer_registry.cc:114] Plugin optimizer for device_type GPU is enabled.\n",
            "2022-12-03 16:38:39.980863: I tensorflow/core/grappler/optimizers/custom_graph_optimizer_registry.cc:114] Plugin optimizer for device_type GPU is enabled.\n"
          ]
        },
        {
          "name": "stdout",
          "output_type": "stream",
          "text": [
            "21/21 [==============================] - 1s 30ms/step\n",
            "Training ke- 5\n",
            "              precision    recall  f1-score   support\n",
            "\n",
            "           0       0.78      0.73      0.75       221\n",
            "           1       0.82      0.84      0.83       212\n",
            "           2       0.81      0.84      0.83       237\n",
            "\n",
            "    accuracy                           0.80       670\n",
            "   macro avg       0.80      0.80      0.80       670\n",
            "weighted avg       0.80      0.80      0.80       670\n",
            "\n",
            "================================\n",
            "\n",
            "\n",
            "\n",
            "Rata-rata akurasi:  0.8044776119402985\n"
          ]
        }
      ],
      "source": [
        "import numpy as np \n",
        "from sklearn.metrics import classification_report\n",
        "from sklearn.metrics import accuracy_score\n",
        "from sklearn.model_selection import KFold\n",
        "\n",
        "kf = KFold(n_splits=5, random_state=42, shuffle=True)\n",
        "\n",
        "accuracies = []\n",
        "y=Y\n",
        "\n",
        "embed_dim = 100\n",
        "units = 64\n",
        "\n",
        "for iteration, data in enumerate(kf.split(X), start =1):\n",
        "  data_train = X[data[0]]\n",
        "  target_train = y[data[0]]\n",
        "\n",
        "  data_test = X[data[1]]\n",
        "  target_test = y[data[1]]\n",
        "  model = Sequential()\n",
        "  model.add(Embedding(max_features, embed_dim, input_length=X.shape[1]))\n",
        "  model.add(LSTM(units, dropout=0.2))\n",
        "  model.add(Dense(3,activation='softmax'))\n",
        "  model.compile(loss='binary_crossentropy', optimizer='adam', metrics =['accuracy'])\n",
        "\n",
        "\n",
        "  adam = optimizers.Adam(lr = 0.001)\n",
        "  model.compile(loss = 'categorical_crossentropy', optimizer = adam, metrics = ['accuracy'])\n",
        "  #es = EarlyStopping(monitor='val_loss', mode='min', verbose=1)\n",
        "  #history = model.fit(X_train, y_train, epochs=10, batch_size=10, validation_data=(X_test, y_test), verbose=0, callbacks=[es])\n",
        "  history = model.fit(X_train, y_train, epochs=10, batch_size=10, validation_data=(X_test, y_test), verbose=0)\n",
        "  prediction = model.predict(X_test)\n",
        "  y_pred = predictions\n",
        "\n",
        "  accuracy = accuracy_score(y_test.argmax(axis=1), y_pred.argmax(axis=1))\n",
        "  print('Training ke-', iteration)\n",
        "  print(classification_report(y_test.argmax(axis=1), y_pred.argmax(axis=1)))\n",
        "  print('================================')\n",
        "\n",
        "  accuracies.append(accuracy)\n",
        "\n",
        "average_accuracy = np.mean(accuracies)\n",
        "\n",
        "print()\n",
        "print()\n",
        "print()\n",
        "print('Rata-rata akurasi: ', average_accuracy)\n"
      ]
    },
    {
      "cell_type": "code",
      "execution_count": 33,
      "metadata": {
        "colab": {
          "base_uri": "https://localhost:8080/",
          "height": 337
        },
        "id": "Z7KO5c2ENmUR",
        "outputId": "38ed6a75-498b-4ae9-ba6d-dcc12727e5f9"
      },
      "outputs": [
        {
          "data": {
            "image/png": "[encoded data removed]",
            "text/plain": [
              "<Figure size 1200x500 with 2 Axes>"
            ]
          },
          "metadata": {},
          "output_type": "display_data"
        }
      ],
      "source": [
        "import matplotlib.pyplot as plt \n",
        "plt.style.use('ggplot')\n",
        "\n",
        "def plot_history(history):\n",
        "  acc = history.history['accuracy']\n",
        "  val_acc = history.history['val_accuracy']\n",
        "  loss = history.history['loss']\n",
        "  val_loss = history.history['val_loss']\n",
        "  x = range(1, len(acc)+1)\n",
        "\n",
        "  plt.figure(figsize=(12,5))\n",
        "  plt.subplot(1, 2, 1)\n",
        "  plt.plot(x, acc, 'b', label = 'Training acc')\n",
        "  plt.plot(x, val_acc, 'r', label = 'Validation acc')\n",
        "  plt.title('Training and validation accuracy')\n",
        "  plt.legend()\n",
        "  plt.subplot(1,2,2)\n",
        "  plt.plot(x, loss, 'b', label='Training loss')\n",
        "  plt.plot(x, val_loss, 'r', label= 'Validation loss')\n",
        "  plt.title('Training and validation loss')\n",
        "  plt.legend()\n",
        "\n",
        "%matplotlib inline \n",
        "plot_history(history)"
      ]
    },
    {
      "cell_type": "code",
      "execution_count": 34,
      "metadata": {
        "colab": {
          "base_uri": "https://localhost:8080/"
        },
        "id": "5zIaICgLNuUY",
        "outputId": "b27f399e-5c21-4c78-9179-7ba2d772367b"
      },
      "outputs": [
        {
          "name": "stdout",
          "output_type": "stream",
          "text": [
            "model saved\n"
          ]
        }
      ],
      "source": [
        "model.save('model.h5')\n",
        "print(\"model saved\")\n"
      ]
    },
    {
      "cell_type": "code",
      "execution_count": 41,
      "metadata": {
        "colab": {
          "base_uri": "https://localhost:8080/"
        },
        "id": "YGmrUr9xNxom",
        "outputId": "37b0757f-e37b-4536-bd03-5a9929f0dddd"
      },
      "outputs": [
        {
          "name": "stderr",
          "output_type": "stream",
          "text": [
            "2022-12-03 16:43:31.415389: I tensorflow/core/grappler/optimizers/custom_graph_optimizer_registry.cc:114] Plugin optimizer for device_type GPU is enabled.\n",
            "2022-12-03 16:43:31.577793: I tensorflow/core/grappler/optimizers/custom_graph_optimizer_registry.cc:114] Plugin optimizer for device_type GPU is enabled.\n"
          ]
        },
        {
          "name": "stdout",
          "output_type": "stream",
          "text": [
            "1/1 [==============================] - 1s 706ms/step\n",
            "text:   betapa bahagia nya diri ini \n",
            "sentiment:  positive\n"
          ]
        }
      ],
      "source": [
        "from keras.models import load_model\n",
        "import re \n",
        "\n",
        "def lower(text):\n",
        "    return text.lower()\n",
        "\n",
        "def rmv_unn(text):\n",
        "    text = re.sub('\\n',' ',text) # Remove every '\\n'\n",
        "    text = re.sub('rt',' ',text) # Remove every retweet symbol\n",
        "    text = re.sub('user',' ',text) # Remove every username\n",
        "    text = re.sub('((www\\.[^\\s]+)|(https?://[^\\s]+)|(http?://[^\\s]+))',' ',text) # Remove every URL\n",
        "    text = re.sub('  +', ' ', text) # Remove extra spaces\n",
        "    return text\n",
        "    \n",
        "def rmv_nonalpha(text):\n",
        "    text = re.sub('[^0-9a-zA-Z]+', ' ', text) \n",
        "    return text\n",
        "\n",
        "def preprocess(text):\n",
        "    text = lower(text) # 1\n",
        "    text = rmv_nonalpha(text) # 2\n",
        "    text = rmv_unn(text) # 2\n",
        "    return text\n",
        "\n",
        "sentiment = ['negative', 'neutral', 'positive']\n",
        "input_text = \"\"\" \n",
        "betapa bahagia nya diri ini. \n",
        "\"\"\"\n",
        "text = [preprocess(input_text)]\n",
        "predicted = tokenizer.texts_to_sequences(text)\n",
        "guess = pad_sequences(predicted, maxlen=X.shape[1])\n",
        "\n",
        "model = load_model('model.h5')\n",
        "prediction = model.predict(guess)\n",
        "polarity = np.argmax(prediction[0])\n",
        "\n",
        "print (\"text: \", text[0])\n",
        "print (\"sentiment: \", sentiment[polarity])"
      ]
    },
    {
      "cell_type": "code",
      "execution_count": null,
      "metadata": {
        "id": "WauVwmyEN0Q_"
      },
      "outputs": [],
      "source": []
    }
  ],
  "metadata": {
    "accelerator": "GPU",
    "colab": {
      "provenance": []
    },
    "gpuClass": "standard",
    "kernelspec": {
      "display_name": "Python 3.9.15",
      "language": "python",
      "name": "python3"
    },
    "language_info": {
      "codemirror_mode": {
        "name": "ipython",
        "version": 3
      },
      "file_extension": ".py",
      "mimetype": "text/x-python",
      "name": "python",
      "nbconvert_exporter": "python",
      "pygments_lexer": "ipython3",
      "version": "3.9.15"
    },
    "vscode": {
      "interpreter": {
        "hash": "5752c32baf814599ddbc9aac7a050b1fcb544a10d33572de86d08d76c68eef90"
      }
    }
  },
  "nbformat": 4,
  "nbformat_minor": 0
}
